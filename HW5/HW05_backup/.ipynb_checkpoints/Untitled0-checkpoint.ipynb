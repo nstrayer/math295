{
 "metadata": {
  "name": "",
  "signature": "sha256:ffd4a7fe001598f303099037a241460f42c101e80257c9ff7a2c9af118447f83"
 },
 "nbformat": 3,
 "nbformat_minor": 0,
 "worksheets": []
}