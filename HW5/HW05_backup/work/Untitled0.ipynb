{
 "metadata": {
  "name": "",
  "signature": "sha256:18018958c5f37261ce00892acc843d171f740edfb81bb7de27a8ecf79fef327f"
 },
 "nbformat": 3,
 "nbformat_minor": 0,
 "worksheets": [
  {
   "cells": [
    {
     "cell_type": "code",
     "collapsed": false,
     "input": [
      "import numpy as np\n",
      "import matplotlib.pyplot as plt\n",
      "import random\n",
      "import scipy, scipy.stats\n",
      "import pymc as pm"
     ],
     "language": "python",
     "metadata": {},
     "outputs": [],
     "prompt_number": 19
    },
    {
     "cell_type": "code",
     "collapsed": false,
     "input": [
      "#Mk1\n",
      "n_encounters = 2675100\n",
      "n_kills = 183\n",
      "\n",
      "data = [0]*(n_encounters-n_kills) + [1]*n_kills\n",
      "random.shuffle(data) # not really needed\n",
      "\n",
      "print data[:15]"
     ],
     "language": "python",
     "metadata": {},
     "outputs": [
      {
       "output_type": "stream",
       "stream": "stdout",
       "text": [
        "[0, 0, 0, 0, 0, 0, 0, 0, 0, 0, 0, 0, 0, 0, 0]\n"
       ]
      }
     ],
     "prompt_number": 20
    },
    {
     "cell_type": "code",
     "collapsed": false,
     "input": [
      "p     = pm.Uniform('p', lower=0, upper=1)                    #set dah priah\n",
      "obs   = pm.Bernoulli(\"obs\", p, value=data, observed=True)    #set dah datah\n",
      "model = pm.Model([obs, p])                                   #set dah modelh\n",
      "mcmc  = pm.MCMC(model)\n",
      "\n",
      "mcmc.use_step_method(pm.AdaptiveMetropolis, p)\n",
      "mcmc.sample(10000, 1000, 2)\n",
      "\n",
      "p_samples = mcmc.trace(\"p\")[:]"
     ],
     "language": "python",
     "metadata": {},
     "outputs": [
      {
       "output_type": "stream",
       "stream": "stdout",
       "text": [
        " \r",
        "[****************100%******************]  10000 of 10000 complete"
       ]
      },
      {
       "output_type": "stream",
       "stream": "stdout",
       "text": [
        "\n"
       ]
      }
     ],
     "prompt_number": 22
    },
    {
     "cell_type": "code",
     "collapsed": false,
     "input": [
      "plt.hist(p_samples, histtype='stepfilled', bins=61, alpha=0.85,\n",
      "         label=\"posterior\", color=\"#A60628\", normed=True, edgecolor=\"none\")\n",
      "plt.xlabel(\"$p$\"); plt.ylabel(\"Pr($p$|data)\")\n",
      "plt.show()"
     ],
     "language": "python",
     "metadata": {},
     "outputs": [
      {
       "metadata": {},
       "output_type": "display_data",
       "png": "[encoded data removed]",
       "text": [
        "<matplotlib.figure.Figure at 0x114495b90>"
       ]
      }
     ],
     "prompt_number": 23
    },
    {
     "cell_type": "code",
     "collapsed": false,
     "input": [],
     "language": "python",
     "metadata": {},
     "outputs": []
    }
   ],
   "metadata": {}
  }
 ]
}