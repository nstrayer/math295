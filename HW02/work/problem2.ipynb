{
 "metadata": {
  "name": "",
  "signature": "sha256:815f53060ed27e106b60a34c860257fb0dbf0b1e9c863f577b20d970ef0ac59e"
 },
 "nbformat": 3,
 "nbformat_minor": 0,
 "worksheets": [
  {
   "cells": [
    {
     "cell_type": "markdown",
     "metadata": {},
     "source": [
      "# HW2 Problem 2"
     ]
    },
    {
     "cell_type": "code",
     "collapsed": false,
     "input": [
      "import numpy as np\n",
      "import pandas as pd\n",
      "import os \n",
      "import matplotlib.pyplot as plt\n",
      "#casesFileNames = os.listdir(\"data/cases\") #We're gonna need the names of the files. \n",
      "casesFileNames = os.listdir(\"data/deaths\")"
     ],
     "language": "python",
     "metadata": {},
     "outputs": [],
     "prompt_number": 19
    },
    {
     "cell_type": "code",
     "collapsed": false,
     "input": [
      "diseases = [\"measles\", \"Whooping+Cough+[pertussis]\", \"scarlet+fever\", \n",
      "            \"diphtheria\", \"influenza\", \"mumps\", \"rubella\", \n",
      "            \"Chickenpox+[varicella]\"]\n",
      "\n",
      "diseasesNames = [\"measles\", \"Whooping Cough\", \"scarlet fever\", \n",
      "                \"diphtheria\", \"influenza\", \"mumps\", \"rubella\", \n",
      "                \"Chickenpox\"]\n",
      "\n",
      "def sumByYearOfDisease(currentDisease):\n",
      "    files = [file for file in casesFileNames if currentDisease in file]\n",
      "    listOfDataframes = [pd.read_csv(\"data/cases/\" + fileName) for fileName in files]\n",
      "    bigDataframe = pd.concat(listOfDataframes)\n",
      "    bigDataframe = bigDataframe.groupby([\"year\"])\n",
      "    test = bigDataframe.aggregate(np.sum).drop([\"week\"],1)\n",
      "    test[\"disease\"] = currentDisease\n",
      "    return test"
     ],
     "language": "python",
     "metadata": {},
     "outputs": [],
     "prompt_number": 20
    },
    {
     "cell_type": "code",
     "collapsed": false,
     "input": [
      "plt.rcParams['font.family'] = 'sans-serif'\n",
      "steelBlue = \"#4682b4\"\n",
      "niceRed   = \"#ff6347\"\n",
      "allDiseasesByYear = []\n",
      "fig = plt.figure(figsize=(18,10))\n",
      "fig.suptitle(\"The impact of Diseases in the U.S. (by year)\", fontsize=18, fontweight='bold')\n",
      "for i in range(len(diseases)):\n",
      "    try:\n",
      "        data = sumByYearOfDisease(diseases[i])\n",
      "        currentFigure = fig.add_subplot(2,4,i+1)\n",
      "        currentFigure.plot([year for year in data.index],[number for number in data[\"number\"]],niceRed,marker='.')\n",
      "        ax = pd.rolling_mean(data[\"number\"],6).plot(linewidth=4, color=steelBlue)\n",
      "        ax.set_xlabel(\"\")\n",
      "        ax.set_xlim([1900,2020])\n",
      "        if i == 0:                               # We only need one axis-label and legend\n",
      "            ax.set_ylabel( \"Number of Infected\" )\n",
      "        if i == 3:\n",
      "            plt.legend([\"Real Data\", \"Moving Average\"])\n",
      "        currentFigure.set_title(diseasesNames[i].capitalize())\n",
      "        plt.xticks(rotation=70)\n",
      "        allDiseasesByYear.append(data)\n",
      "    except: \n",
      "        print diseases[i]\n",
      "        \n",
      "fig.savefig(\"diseaseDeathsByYear.pdf\")"
     ],
     "language": "python",
     "metadata": {},
     "outputs": [
      {
       "output_type": "stream",
       "stream": "stdout",
       "text": [
        "measles\n",
        "Whooping+Cough+[pertussis]\n",
        "scarlet+fever\n",
        "diphtheria\n",
        "influenza\n",
        "mumps\n",
        "rubella\n",
        "Chickenpox+[varicella]\n"
       ]
      },
      {
       "metadata": {},
       "output_type": "display_data",
       "text": [
        "<matplotlib.figure.Figure at 0x102922b10>"
       ]
      }
     ],
     "prompt_number": 21
    },
    {
     "cell_type": "code",
     "collapsed": false,
     "input": [],
     "language": "python",
     "metadata": {},
     "outputs": []
    }
   ],
   "metadata": {}
  }
 ]
}